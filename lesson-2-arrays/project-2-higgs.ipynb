{
 "cells": [
  {
   "cell_type": "markdown",
   "id": "7f904556-33e3-4dd1-b8cf-3cab5fb03bc9",
   "metadata": {
    "editable": true,
    "slideshow": {
     "slide_type": ""
    },
    "tags": []
   },
   "source": [
    "# Lesson 2 project 2: Higgs decay combinatorics"
   ]
  },
  {
   "cell_type": "code",
   "execution_count": 1,
   "id": "c7f362c2-2b6f-420f-ac59-eb115244471f",
   "metadata": {
    "tags": []
   },
   "outputs": [],
   "source": [
    "import numpy as np\n",
    "import h5py\n",
    "\n",
    "dataset_hdf5 = h5py.File(\"../data/SMHiggsToZZTo4L.h5\")"
   ]
  },
  {
   "cell_type": "markdown",
   "id": "194ed57d-e22f-4102-920d-bbd5846b26eb",
   "metadata": {},
   "source": [
    "<br><br><br>\n",
    "\n",
    "This HDF5 file contains the same Higgs data, but as arrays, rather than JSON.\n",
    "\n",
    "<br>\n",
    "\n",
    "HDF5 is a file format for arrays, arranged as named objects (\"datasets\") in directories (\"groups\")."
   ]
  },
  {
   "cell_type": "code",
   "execution_count": 2,
   "id": "fad14b53-0435-44c3-ab95-9441245078a5",
   "metadata": {
    "tags": []
   },
   "outputs": [
    {
     "data": {
      "text/plain": [
       "<KeysViewHDF5 ['counts', 'ee_mumu', 'events', 'offsets', 'particles']>"
      ]
     },
     "execution_count": 2,
     "metadata": {},
     "output_type": "execute_result"
    }
   ],
   "source": [
    "dataset_hdf5.keys()"
   ]
  },
  {
   "cell_type": "code",
   "execution_count": 3,
   "id": "6bc96df8-ff28-4333-a93a-94701c777cd7",
   "metadata": {
    "tags": []
   },
   "outputs": [
    {
     "data": {
      "text/plain": [
       "[<HDF5 dataset \"counts\": shape (10000,), type \"<i4\">,\n",
       " <HDF5 group \"/ee_mumu\" (4 members)>,\n",
       " <HDF5 group \"/events\" (8 members)>,\n",
       " <HDF5 dataset \"offsets\": shape (10001,), type \"<i4\">,\n",
       " <HDF5 group \"/particles\" (20 members)>]"
      ]
     },
     "execution_count": 3,
     "metadata": {},
     "output_type": "execute_result"
    }
   ],
   "source": [
    "list(dataset_hdf5.values())"
   ]
  },
  {
   "cell_type": "markdown",
   "id": "a491be83-7007-42f3-b268-3b5843431eff",
   "metadata": {},
   "source": [
    "<br><br><br>\n",
    "\n",
    "In this file,\n",
    "\n",
    "  * the `events` group contains all of the event-level variables (one scalar per event)\n",
    "    * run, luminosityBlock, event, PV_x, PV_y, PV_z, MET_pt, MET_phi\n",
    "  * the `particles` group contains all of the particle-level variables (one scalar per particle)\n",
    "    * the above, duplicated for each particle\n",
    "    * pt, phi, eta, mass, pfRelIso03_all, pfRelIso04_all (-1 if electron), dxy, dxyErr, dz, dzErr\n",
    "    * is_muon is `True` for muons and `False` for electrons\n",
    "  * the `counts` dataset has the number of particles in each event (one count per event)\n",
    "  * the `offsets` dataset has a cumulative sum of `counts`\n",
    "\n",
    "<br><br><br>"
   ]
  },
  {
   "cell_type": "code",
   "execution_count": 4,
   "id": "df1cc600-e3a0-4e9c-a6a8-6b8000a53314",
   "metadata": {
    "tags": []
   },
   "outputs": [
    {
     "data": {
      "text/plain": [
       "array([0.2436988 , 0.24427825, 0.24243677, ..., 0.24536936, 0.24218403,\n",
       "       0.24438694], shape=(10000,), dtype=float32)"
      ]
     },
     "execution_count": 4,
     "metadata": {},
     "output_type": "execute_result"
    }
   ],
   "source": [
    "pv_x = np.asarray(dataset_hdf5[\"events\"][\"PV_x\"])\n",
    "pv_x"
   ]
  },
  {
   "cell_type": "code",
   "execution_count": 5,
   "id": "a25b76cd-976b-4907-a777-a82778c44d23",
   "metadata": {
    "tags": []
   },
   "outputs": [
    {
     "data": {
      "text/plain": [
       "array([0.39369902, 0.39526224, 0.3950969 , ..., 0.39209342, 0.39275196,\n",
       "       0.39342144], shape=(10000,), dtype=float32)"
      ]
     },
     "execution_count": 5,
     "metadata": {},
     "output_type": "execute_result"
    }
   ],
   "source": [
    "pv_y = np.asarray(dataset_hdf5[\"events\"][\"PV_y\"])\n",
    "pv_y"
   ]
  },
  {
   "cell_type": "code",
   "execution_count": 6,
   "id": "21278085-89dd-42e7-a9dc-241730d92ac4",
   "metadata": {
    "tags": []
   },
   "outputs": [
    {
     "data": {
      "text/plain": [
       "array([ 1.4513078, -2.879779 ,  1.868263 , ..., -1.7209038, -9.89064  ,\n",
       "        9.982337 ], shape=(10000,), dtype=float32)"
      ]
     },
     "execution_count": 6,
     "metadata": {},
     "output_type": "execute_result"
    }
   ],
   "source": [
    "pv_z = np.asarray(dataset_hdf5[\"events\"][\"PV_z\"])\n",
    "pv_z"
   ]
  },
  {
   "cell_type": "markdown",
   "id": "802d9b37-c9b4-442f-975a-80f537540111",
   "metadata": {},
   "source": [
    "<br><br><br>"
   ]
  },
  {
   "cell_type": "markdown",
   "id": "b30370ca-2898-49a3-8225-34b9ad63483d",
   "metadata": {},
   "source": [
    "### Histogramming"
   ]
  },
  {
   "cell_type": "markdown",
   "id": "521dffbb-9de0-47f3-9e2a-136f04b3d9e6",
   "metadata": {},
   "source": [
    "NumPy interactions are usually one operation at a time, rather than one data value at a time. We'll need a way to see what happens to _distributions_ in each step, rather than values.\n",
    "\n",
    "<br>\n",
    "\n",
    "The **hist** library provides the same kind of interface for histograms."
   ]
  },
  {
   "cell_type": "code",
   "execution_count": 7,
   "id": "6354b09d-d2d3-4309-946f-5a6b6f17ea73",
   "metadata": {
    "tags": []
   },
   "outputs": [],
   "source": [
    "import hist"
   ]
  },
  {
   "cell_type": "markdown",
   "id": "a27c88fb-937f-4c29-900b-3802ffa186c7",
   "metadata": {},
   "source": [
    "<br>\n",
    "\n",
    "See the [docs](https://hist.readthedocs.io/en/latest/user-guide/quickstart.html) for how to book and fill histograms."
   ]
  },
  {
   "cell_type": "code",
   "execution_count": 8,
   "id": "d16da4c5-34d0-4abb-a2a9-a8d2cad27113",
   "metadata": {
    "tags": []
   },
   "outputs": [
    {
     "data": {
      "text/html": [
       "<html>\n",
       "<div style=\"display:flex; align-items:center;\">\n",
       "<div style=\"width:290px;\">\n",
       "<svg xmlns=\"http://www.w3.org/2000/svg\" viewBox=\"-10 -105 270 120\">\n",
       "<line x1=\"-5\" y1=\"0\" x2=\"255\" y2=\"0\" style=\"fill:none;stroke-width:2;stroke:currentColor\"/>\n",
       "<text text-anchor=\"middle\" x=\"0\" y=\"15\" style=\"fill:currentColor;\">\n",
       "-0.5\n",
       "</text>\n",
       "<text text-anchor=\"middle\" x=\"250\" y=\"15\" style=\"fill:currentColor;\">\n",
       "0.5\n",
       "</text>\n",
       "<text text-anchor=\"middle\" x=\"125.0\" y=\"15\" style=\"fill:currentColor;\">\n",
       "Axis 0\n",
       "</text>\n",
       "<polyline points=\"  0,0   0,-0 2.5,-0 2.5,-0   5,-0   5,-0 7.5,-0 7.5,-0  10,-0  10,-0 12.5,-0 12.5,-0  15,-0  15,-0 17.5,-0 17.5,-0  20,-0  20,-0 22.5,-0 22.5,-0  25,-0  25,-0 27.5,-0 27.5,-0  30,-0  30,-0 32.5,-0 32.5,-0  35,-0  35,-0 37.5,-0 37.5,-0  40,-0  40,-0 42.5,-0 42.5,-0  45,-0  45,-0 47.5,-0 47.5,-0  50,-0  50,-0 52.5,-0 52.5,-0  55,-0  55,-0 57.5,-0 57.5,-0  60,-0  60,-0 62.5,-0 62.5,-0  65,-0  65,-0 67.5,-0 67.5,-0  70,-0  70,-0 72.5,-0 72.5,-0  75,-0  75,-0 77.5,-0 77.5,-0  80,-0  80,-0 82.5,-0 82.5,-0  85,-0  85,-0 87.5,-0 87.5,-0  90,-0  90,-0 92.5,-0 92.5,-0  95,-0  95,-0 97.5,-0 97.5,-0 100,-0 100,-0 102.5,-0 102.5,-0 105,-0 105,-0 107.5,-0 107.5,-0 110,-0 110,-0 112.5,-0 112.5,-0 115,-0 115,-0 117.5,-0 117.5,-0 120,-0 120,-0 122.5,-0 122.5,-0 125,-0 125,-0 127.5,-0 127.5,-0 130,-0 130,-0 132.5,-0 132.5,-0 135,-0 135,-0 137.5,-0 137.5,-0 140,-0 140,-0 142.5,-0 142.5,-0 145,-0 145,-0 147.5,-0 147.5,-0 150,-0 150,-0 152.5,-0 152.5,-0 155,-0 155,-0 157.5,-0 157.5,-0 160,-0 160,-0 162.5,-0 162.5,-0 165,-0 165,-0 167.5,-0 167.5,-0 170,-0 170,-0 172.5,-0 172.5,-0 175,-0 175,-0 177.5,-0 177.5,-0 180,-0 180,-0.0315 182.5,-0.0315 182.5,-4.16 185,-4.16 185,-100 187.5,-100 187.5,-0.756 190,-0.756 190,-0.0105 192.5,-0.0105 192.5,-0 195,-0 195,-0 197.5,-0 197.5,-0 200,-0 200,-0 202.5,-0 202.5,-0 205,-0 205,-0 207.5,-0 207.5,-0 210,-0 210,-0 212.5,-0 212.5,-0 215,-0 215,-0 217.5,-0 217.5,-0 220,-0 220,-0 222.5,-0 222.5,-0 225,-0 225,-0 227.5,-0 227.5,-0 230,-0 230,-0 232.5,-0 232.5,-0 235,-0 235,-0 237.5,-0 237.5,-0 240,-0 240,-0 242.5,-0 242.5,-0 245,-0 245,-0 247.5,-0 247.5,-0 250,-0 250,0\" style=\"fill:none; stroke:currentColor;\"/>\n",
       "</svg>\n",
       "</div>\n",
       "<div style=\"flex=grow:1;\">\n",
       "Regular(100, -0.5, 0.5, label='Axis 0')<br/>\n",
       "<hr style=\"margin-top:.2em; margin-bottom:.2em;\"/>\n",
       "Double() Σ=10000.0\n",
       "\n",
       "</div>\n",
       "</div>\n",
       "</html>"
      ],
      "text/plain": [
       "Hist(Regular(100, -0.5, 0.5, label='Axis 0'), storage=Double()) # Sum: 10000.0"
      ]
     },
     "execution_count": 8,
     "metadata": {},
     "output_type": "execute_result"
    }
   ],
   "source": [
    "hist.Hist.new.Regular(100, -0.5, 0.5).Double().fill(pv_x)"
   ]
  },
  {
   "cell_type": "code",
   "execution_count": 9,
   "id": "954ac6fa-58d8-43df-9a64-907882d3c6cb",
   "metadata": {
    "tags": []
   },
   "outputs": [
    {
     "data": {
      "text/html": [
       "<html>\n",
       "<div style=\"display:flex; align-items:center;\">\n",
       "<div style=\"width:290px;\">\n",
       "<svg xmlns=\"http://www.w3.org/2000/svg\" viewBox=\"-10 -105 270 120\">\n",
       "<line x1=\"-5\" y1=\"0\" x2=\"255\" y2=\"0\" style=\"fill:none;stroke-width:2;stroke:currentColor\"/>\n",
       "<text text-anchor=\"middle\" x=\"0\" y=\"15\" style=\"fill:currentColor;\">\n",
       "-0.5\n",
       "</text>\n",
       "<text text-anchor=\"middle\" x=\"250\" y=\"15\" style=\"fill:currentColor;\">\n",
       "0.5\n",
       "</text>\n",
       "<text text-anchor=\"middle\" x=\"125.0\" y=\"15\" style=\"fill:currentColor;\">\n",
       "Axis 0\n",
       "</text>\n",
       "<polyline points=\"  0,0   0,-0 2.5,-0 2.5,-0   5,-0   5,-0 7.5,-0 7.5,-0  10,-0  10,-0 12.5,-0 12.5,-0  15,-0  15,-0 17.5,-0 17.5,-0  20,-0  20,-0 22.5,-0 22.5,-0  25,-0  25,-0 27.5,-0 27.5,-0  30,-0  30,-0 32.5,-0 32.5,-0  35,-0  35,-0 37.5,-0 37.5,-0  40,-0  40,-0 42.5,-0 42.5,-0  45,-0  45,-0 47.5,-0 47.5,-0  50,-0  50,-0 52.5,-0 52.5,-0  55,-0  55,-0 57.5,-0 57.5,-0  60,-0  60,-0 62.5,-0 62.5,-0  65,-0  65,-0 67.5,-0 67.5,-0  70,-0  70,-0 72.5,-0 72.5,-0  75,-0  75,-0 77.5,-0 77.5,-0  80,-0  80,-0 82.5,-0 82.5,-0  85,-0  85,-0 87.5,-0 87.5,-0  90,-0  90,-0 92.5,-0 92.5,-0  95,-0  95,-0 97.5,-0 97.5,-0 100,-0 100,-0 102.5,-0 102.5,-0 105,-0 105,-0 107.5,-0 107.5,-0 110,-0 110,-0 112.5,-0 112.5,-0 115,-0 115,-0 117.5,-0 117.5,-0 120,-0 120,-0 122.5,-0 122.5,-0 125,-0 125,-0 127.5,-0 127.5,-0 130,-0 130,-0 132.5,-0 132.5,-0 135,-0 135,-0 137.5,-0 137.5,-0 140,-0 140,-0 142.5,-0 142.5,-0 145,-0 145,-0 147.5,-0 147.5,-0 150,-0 150,-0 152.5,-0 152.5,-0 155,-0 155,-0 157.5,-0 157.5,-0 160,-0 160,-0 162.5,-0 162.5,-0 165,-0 165,-0 167.5,-0 167.5,-0 170,-0 170,-0 172.5,-0 172.5,-0 175,-0 175,-0 177.5,-0 177.5,-0 180,-0 180,-0 182.5,-0 182.5,-0 185,-0 185,-0 187.5,-0 187.5,-0 190,-0 190,-0 192.5,-0 192.5,-0 195,-0 195,-0 197.5,-0 197.5,-0 200,-0 200,-0 202.5,-0 202.5,-0 205,-0 205,-0 207.5,-0 207.5,-0 210,-0 210,-0 212.5,-0 212.5,-0.0111 215,-0.0111 215,-0.0111 217.5,-0.0111 217.5,-0.0221 220,-0.0221 220,-10.1 222.5,-10.1 222.5,-100 225,-100 225,-0.487 227.5,-0.487 227.5,-0 230,-0 230,-0 232.5,-0 232.5,-0 235,-0 235,-0 237.5,-0 237.5,-0 240,-0 240,-0 242.5,-0 242.5,-0 245,-0 245,-0 247.5,-0 247.5,-0 250,-0 250,0\" style=\"fill:none; stroke:currentColor;\"/>\n",
       "</svg>\n",
       "</div>\n",
       "<div style=\"flex=grow:1;\">\n",
       "Regular(100, -0.5, 0.5, label='Axis 0')<br/>\n",
       "<hr style=\"margin-top:.2em; margin-bottom:.2em;\"/>\n",
       "Double() Σ=10000.0\n",
       "\n",
       "</div>\n",
       "</div>\n",
       "</html>"
      ],
      "text/plain": [
       "Hist(Regular(100, -0.5, 0.5, label='Axis 0'), storage=Double()) # Sum: 10000.0"
      ]
     },
     "execution_count": 9,
     "metadata": {},
     "output_type": "execute_result"
    }
   ],
   "source": [
    "hist.Hist.new.Regular(100, -0.5, 0.5).Double().fill(pv_y)"
   ]
  },
  {
   "cell_type": "code",
   "execution_count": 10,
   "id": "71377f61-1dfc-4169-b032-a8e11fab575e",
   "metadata": {
    "tags": []
   },
   "outputs": [
    {
     "data": {
      "text/html": [
       "<html>\n",
       "<div style=\"display:flex; align-items:center;\">\n",
       "<div style=\"width:290px;\">\n",
       "<svg xmlns=\"http://www.w3.org/2000/svg\" viewBox=\"-10 -105 270 120\">\n",
       "<line x1=\"-5\" y1=\"0\" x2=\"255\" y2=\"0\" style=\"fill:none;stroke-width:2;stroke:currentColor\"/>\n",
       "<text text-anchor=\"middle\" x=\"0\" y=\"15\" style=\"fill:currentColor;\">\n",
       "-0.5\n",
       "</text>\n",
       "<text text-anchor=\"middle\" x=\"250\" y=\"15\" style=\"fill:currentColor;\">\n",
       "0.5\n",
       "</text>\n",
       "<text text-anchor=\"middle\" x=\"125.0\" y=\"15\" style=\"fill:currentColor;\">\n",
       "Axis 0\n",
       "</text>\n",
       "<polyline points=\"  0,0   0,-60 2.5,-60 2.5,-66.7   5,-66.7   5,-26.7 7.5,-26.7 7.5,-66.7  10,-66.7  10,-60 12.5,-60 12.5,-60  15,-60  15,-20 17.5,-20 17.5,-46.7  20,-46.7  20,-53.3 22.5,-53.3 22.5,-40  25,-40  25,-26.7 27.5,-26.7 27.5,-40  30,-40  30,-33.3 32.5,-33.3 32.5,-26.7  35,-26.7  35,-26.7 37.5,-26.7 37.5,-40  40,-40  40,-66.7 42.5,-66.7 42.5,-46.7  45,-46.7  45,-60 47.5,-60 47.5,-66.7  50,-66.7  50,-40 52.5,-40 52.5,-40  55,-40  55,-60 57.5,-60 57.5,-53.3  60,-53.3  60,-33.3 62.5,-33.3 62.5,-60  65,-60  65,-26.7 67.5,-26.7 67.5,-26.7  70,-26.7  70,-33.3 72.5,-33.3 72.5,-20  75,-20  75,-13.3 77.5,-13.3 77.5,-60  80,-60  80,-53.3 82.5,-53.3 82.5,-26.7  85,-26.7  85,-73.3 87.5,-73.3 87.5,-80  90,-80  90,-73.3 92.5,-73.3 92.5,-40  95,-40  95,-66.7 97.5,-66.7 97.5,-60 100,-60 100,-26.7 102.5,-26.7 102.5,-6.67 105,-6.67 105,-100 107.5,-100 107.5,-46.7 110,-46.7 110,-40 112.5,-40 112.5,-46.7 115,-46.7 115,-46.7 117.5,-46.7 117.5,-46.7 120,-46.7 120,-66.7 122.5,-66.7 122.5,-26.7 125,-26.7 125,-53.3 127.5,-53.3 127.5,-26.7 130,-26.7 130,-40 132.5,-40 132.5,-53.3 135,-53.3 135,-26.7 137.5,-26.7 137.5,-46.7 140,-46.7 140,-53.3 142.5,-53.3 142.5,-33.3 145,-33.3 145,-33.3 147.5,-33.3 147.5,-60 150,-60 150,-33.3 152.5,-33.3 152.5,-60 155,-60 155,-60 157.5,-60 157.5,-26.7 160,-26.7 160,-60 162.5,-60 162.5,-46.7 165,-46.7 165,-60 167.5,-60 167.5,-20 170,-20 170,-46.7 172.5,-46.7 172.5,-66.7 175,-66.7 175,-33.3 177.5,-33.3 177.5,-26.7 180,-26.7 180,-40 182.5,-40 182.5,-53.3 185,-53.3 185,-40 187.5,-40 187.5,-20 190,-20 190,-53.3 192.5,-53.3 192.5,-66.7 195,-66.7 195,-60 197.5,-60 197.5,-13.3 200,-13.3 200,-46.7 202.5,-46.7 202.5,-33.3 205,-33.3 205,-26.7 207.5,-26.7 207.5,-40 210,-40 210,-40 212.5,-40 212.5,-26.7 215,-26.7 215,-66.7 217.5,-66.7 217.5,-53.3 220,-53.3 220,-53.3 222.5,-53.3 222.5,-80 225,-80 225,-33.3 227.5,-33.3 227.5,-60 230,-60 230,-26.7 232.5,-26.7 232.5,-60 235,-60 235,-46.7 237.5,-46.7 237.5,-40 240,-40 240,-40 242.5,-40 242.5,-80 245,-80 245,-46.7 247.5,-46.7 247.5,-40 250,-40 250,0\" style=\"fill:none; stroke:currentColor;\"/>\n",
       "</svg>\n",
       "</div>\n",
       "<div style=\"flex=grow:1;\">\n",
       "Regular(100, -0.5, 0.5, label='Axis 0')<br/>\n",
       "<hr style=\"margin-top:.2em; margin-bottom:.2em;\"/>\n",
       "Double() Σ=687.0 <em>(10000.0 with flow)</em>\n",
       "\n",
       "</div>\n",
       "</div>\n",
       "</html>"
      ],
      "text/plain": [
       "Hist(Regular(100, -0.5, 0.5, label='Axis 0'), storage=Double()) # Sum: 687.0 (10000.0 with flow)"
      ]
     },
     "execution_count": 10,
     "metadata": {},
     "output_type": "execute_result"
    }
   ],
   "source": [
    "hist.Hist.new.Regular(100, -0.5, 0.5).Double().fill(pv_z)"
   ]
  },
  {
   "cell_type": "markdown",
   "id": "4266186a-295e-48fa-836c-05f311a9678e",
   "metadata": {},
   "source": [
    "<br>\n",
    "\n",
    "Fill a 3-dimensional histogram, and we'll work with the already-aggregated data."
   ]
  },
  {
   "cell_type": "code",
   "execution_count": 11,
   "id": "71d89ca3-b9e3-47eb-98e3-01347eca7611",
   "metadata": {
    "tags": []
   },
   "outputs": [
    {
     "data": {
      "text/plain": [
       "Hist(\n",
       "  Regular(1000, -0.5, 0.5, name='x'),\n",
       "  Regular(1000, -0.5, 0.5, name='y'),\n",
       "  Regular(100, -20, 20, name='z'),\n",
       "  storage=Double()) # Sum: 9986.0 (10000.0 with flow)"
      ]
     },
     "execution_count": 11,
     "metadata": {},
     "output_type": "execute_result"
    }
   ],
   "source": [
    "pv_hist = (\n",
    "    hist.Hist.new\n",
    "    .Regular(1000, -0.5, 0.5, name=\"x\")\n",
    "    .Regular(1000, -0.5, 0.5, name=\"y\")\n",
    "    .Regular(100, -20.0, 20.0, name=\"z\")\n",
    "    .Double()\n",
    "    .fill(x=pv_x, y=pv_y, z=pv_z)\n",
    ")\n",
    "pv_hist"
   ]
  },
  {
   "cell_type": "markdown",
   "id": "a5cf2867-742c-44d3-8f36-f2e07e0c0951",
   "metadata": {},
   "source": [
    "<br>\n",
    "\n",
    "hist has a [slicing syntax](https://uhi.readthedocs.io/en/latest/indexing.html) similar to NumPy arrays, with some extensions.\n",
    "\n",
    "Plot $x$ versus $y$ by summing over $z$ (see [plotting docs](https://hist.readthedocs.io/en/latest/user-guide/notebooks/Plots.html)):"
   ]
  },
  {
   "cell_type": "code",
   "execution_count": 12,
   "id": "3a268376-309e-4b3d-8ccc-a05b709ba983",
   "metadata": {
    "tags": []
   },
   "outputs": [
    {
     "data": {
      "image/png": "[encoded data removed]",
      "text/plain": [
       "<Figure size 640x480 with 3 Axes>"
      ]
     },
     "metadata": {},
     "output_type": "display_data"
    }
   ],
   "source": [
    "pv_hist[:, :, ::sum].plot2d_full();"
   ]
  },
  {
   "cell_type": "markdown",
   "id": "84d79610-a685-485e-a1f1-5e0e05e6fb87",
   "metadata": {},
   "source": [
    "<br>\n",
    "\n",
    "That's a tight beamspot; let's zoom in."
   ]
  },
  {
   "cell_type": "code",
   "execution_count": 13,
   "id": "c9294ebf-e57c-4d55-93fb-0395cdf2feb3",
   "metadata": {
    "tags": []
   },
   "outputs": [
    {
     "data": {
      "image/png": "[encoded data removed]",
      "text/plain": [
       "<Figure size 640x480 with 3 Axes>"
      ]
     },
     "metadata": {},
     "output_type": "display_data"
    }
   ],
   "source": [
    "from hist import loc\n",
    "\n",
    "pv_hist[loc(0.2):loc(0.3), loc(0.3):loc(0.5), ::sum].plot2d_full();"
   ]
  },
  {
   "cell_type": "markdown",
   "id": "fa61e3a2-0977-43c0-9fce-8820a8ae7ca3",
   "metadata": {},
   "source": [
    "<br>\n",
    "\n",
    "This cuts around the beamspot in $x$ and $y$ and plots $z$."
   ]
  },
  {
   "cell_type": "code",
   "execution_count": 14,
   "id": "e5174d3d-9bb5-4cb0-a19b-943e849cde77",
   "metadata": {
    "tags": []
   },
   "outputs": [
    {
     "data": {
      "image/png": "[encoded data removed]",
      "text/plain": [
       "<Figure size 640x480 with 1 Axes>"
      ]
     },
     "metadata": {},
     "output_type": "display_data"
    }
   ],
   "source": [
    "pv_hist[loc(0.2):loc(0.3):sum, loc(0.3):loc(0.5):sum, :].plot();"
   ]
  },
  {
   "cell_type": "markdown",
   "id": "245f90f9-39ef-4150-b3fe-efe29c345047",
   "metadata": {},
   "source": [
    "<br><br><br>\n",
    "\n",
    "Histograms with many bins or many dimensions use a lot of memory, so it helps to clean up when finished."
   ]
  },
  {
   "cell_type": "code",
   "execution_count": 15,
   "id": "056db3ea-6bb8-4f45-ae64-c7c950e151c4",
   "metadata": {
    "tags": []
   },
   "outputs": [],
   "source": [
    "del pv_hist"
   ]
  },
  {
   "cell_type": "markdown",
   "id": "9fafc89b-d8ec-4e6e-a084-ce1f7884133a",
   "metadata": {},
   "source": [
    "<br><br><br>"
   ]
  },
  {
   "cell_type": "markdown",
   "id": "34ed853d-5121-46cc-8b5f-f516ccb7206a",
   "metadata": {},
   "source": [
    "### The problem with particles"
   ]
  },
  {
   "cell_type": "markdown",
   "id": "5d10f419-eb98-44a6-be40-4e65ecbd0e09",
   "metadata": {},
   "source": [
    "We'd like to investigate the particles in the same way."
   ]
  },
  {
   "cell_type": "code",
   "execution_count": 16,
   "id": "f6b070e3-1b0c-40cc-905e-1e08470103f3",
   "metadata": {
    "tags": []
   },
   "outputs": [
    {
     "data": {
      "image/png": "[encoded data removed]",
      "text/plain": [
       "<Figure size 640x480 with 1 Axes>"
      ]
     },
     "metadata": {},
     "output_type": "display_data"
    }
   ],
   "source": [
    "hist.Hist.new.Regular(100, 0, 100, name=\"pt\").Double().fill(dataset_hdf5[\"particles\"][\"pt\"]).plot();"
   ]
  },
  {
   "cell_type": "markdown",
   "id": "2b1bb9bf-ee9f-48bc-a053-e820e626486b",
   "metadata": {},
   "source": [
    "<br>\n",
    "\n",
    "But are these electrons or muons? Which events are they from?\n",
    "\n",
    "Answers: all of them, all of them."
   ]
  },
  {
   "cell_type": "markdown",
   "id": "b84e8c0e-a254-4efc-8074-6e6f3429712e",
   "metadata": {},
   "source": [
    "<br>\n",
    "\n",
    "In the previous exercise, the boundaries between events mattered a lot: we had to find all combinations of particles _in each event_.\n",
    "\n",
    "<br>"
   ]
  },
  {
   "cell_type": "code",
   "execution_count": 17,
   "id": "5a891b3b-663a-47b5-8d7d-5ce083b50844",
   "metadata": {
    "tags": []
   },
   "outputs": [],
   "source": [
    "import json\n",
    "\n",
    "dataset_json = json.load(open(\"../data/SMHiggsToZZTo4L.json\"))"
   ]
  },
  {
   "cell_type": "code",
   "execution_count": 18,
   "id": "eaf5aeca-3d2b-424a-ac81-068da77ff5f5",
   "metadata": {
    "tags": []
   },
   "outputs": [
    {
     "name": "stdout",
     "output_type": "stream",
     "text": [
      "new event\n",
      "    muon pt 63.04386901855469\n",
      "    muon pt 38.12034606933594\n",
      "    muon pt 4.04868745803833\n",
      "new event\n",
      "    electron pt 21.902679443359375\n",
      "    electron pt 42.63296890258789\n",
      "    electron pt 78.01239013671875\n",
      "    electron pt 23.835430145263672\n",
      "new event\n",
      "    electron pt 11.5711669921875\n",
      "    electron pt 6.690738201141357\n",
      "new event\n",
      "    electron pt 10.413637161254883\n",
      "    muon pt 54.33274841308594\n",
      "    muon pt 23.515281677246094\n",
      "    muon pt 52.87107467651367\n",
      "    muon pt 4.328588962554932\n",
      "    muon pt 5.347753524780273\n",
      "    muon pt 8.393385887145996\n",
      "    muon pt 3.4901235103607178\n",
      "new event\n",
      "    electron pt 30.733413696289062\n",
      "    electron pt 29.24686622619629\n",
      "    electron pt 6.382032871246338\n",
      "    electron pt 6.237446308135986\n"
     ]
    }
   ],
   "source": [
    "for event in dataset_json[:5]:\n",
    "    print(f\"new event\")\n",
    "    for electron in event[\"electron\"]:\n",
    "        print(f\"    electron pt {electron['pt']}\")\n",
    "    for muon in event[\"muon\"]:\n",
    "        print(f\"    muon pt {muon['pt']}\")"
   ]
  },
  {
   "cell_type": "markdown",
   "id": "2eb0498c-83f0-4f15-83d4-9e9bc1a43aee",
   "metadata": {},
   "source": [
    "<br>\n",
    "\n",
    "Knowing the number of particles in each event, we can reconstruct that information."
   ]
  },
  {
   "cell_type": "code",
   "execution_count": 19,
   "id": "8a5cd173-8cb4-4246-b381-0729df476658",
   "metadata": {
    "tags": []
   },
   "outputs": [
    {
     "name": "stdout",
     "output_type": "stream",
     "text": [
      "new event\n",
      "    muon pt 63.04386901855469\n",
      "    muon pt 38.12034606933594\n",
      "    muon pt 4.04868745803833\n",
      "new event\n",
      "    electron pt 21.902679443359375\n",
      "    electron pt 42.63296890258789\n",
      "    electron pt 78.01239013671875\n",
      "    electron pt 23.835430145263672\n",
      "new event\n",
      "    electron pt 11.5711669921875\n",
      "    electron pt 6.690738201141357\n",
      "new event\n",
      "    electron pt 10.413637161254883\n",
      "    muon pt 54.33274841308594\n",
      "    muon pt 23.515281677246094\n",
      "    muon pt 52.87107467651367\n",
      "    muon pt 4.328588962554932\n",
      "    muon pt 5.347753524780273\n",
      "    muon pt 8.393385887145996\n",
      "    muon pt 3.4901235103607178\n",
      "new event\n",
      "    electron pt 30.733413696289062\n",
      "    electron pt 29.24686622619629\n",
      "    electron pt 6.382032871246338\n",
      "    electron pt 6.237446308135986\n"
     ]
    }
   ],
   "source": [
    "counts = np.asarray(dataset_hdf5[\"counts\"])\n",
    "is_muon = np.asarray(dataset_hdf5[\"particles\"][\"is_muon\"])\n",
    "pt = np.asarray(dataset_hdf5[\"particles\"][\"pt\"])\n",
    "\n",
    "start = 0\n",
    "stop = 0\n",
    "for num_particles in counts[:5]:\n",
    "    stop += num_particles\n",
    "    print(f\"new event\")\n",
    "    for index in range(start, stop):\n",
    "        if is_muon[index]:\n",
    "            print(f\"    muon pt {pt[index]}\")\n",
    "        else:\n",
    "            print(f\"    electron pt {pt[index]}\")\n",
    "    start = stop"
   ]
  },
  {
   "cell_type": "markdown",
   "id": "9af35c33-d238-4e23-9848-173f8540ba7a",
   "metadata": {},
   "source": [
    "<br>\n",
    "\n",
    "But this is not array-oriented programming. We'll see more about this issue in the next lesson."
   ]
  },
  {
   "cell_type": "markdown",
   "id": "f56f7343-aa74-42e0-b68a-f463f842237c",
   "metadata": {},
   "source": [
    "<br><br><br>"
   ]
  },
  {
   "cell_type": "markdown",
   "id": "94f60148-0c94-4f54-b23c-ed9031340875",
   "metadata": {},
   "source": [
    "### Analysis with an $ee\\mu\\mu$ sample"
   ]
  },
  {
   "cell_type": "markdown",
   "id": "616892eb-ccdb-4f4d-ae5b-e2e392813203",
   "metadata": {
    "editable": true,
    "slideshow": {
     "slide_type": ""
    },
    "tags": []
   },
   "source": [
    "One of the decay modes of Higgs → ZZ is ZZ → 2 electrons + 2 muons.\n",
    "\n",
    "<br>\n",
    "\n",
    "<center>\n",
    "<img src=\"../img/higgs-to-four-leptons-diagram.png\" width=\"500px\">\n",
    "</center>\n",
    "\n",
    "<br>\n",
    "\n",
    "The HDF5 file contains another group with events that have exactly 2 electrons and 2 muons."
   ]
  },
  {
   "cell_type": "code",
   "execution_count": 20,
   "id": "5f851c6e-a903-488b-9716-8a67cc11427f",
   "metadata": {
    "tags": []
   },
   "outputs": [
    {
     "data": {
      "text/plain": [
       "<HDF5 group \"/ee_mumu/e1\" (18 members)>"
      ]
     },
     "execution_count": 20,
     "metadata": {},
     "output_type": "execute_result"
    }
   ],
   "source": [
    "dataset_hdf5[\"ee_mumu\"][\"e1\"]"
   ]
  },
  {
   "cell_type": "code",
   "execution_count": 21,
   "id": "4f299058-d060-4b18-9226-52c060fa8dee",
   "metadata": {
    "tags": []
   },
   "outputs": [
    {
     "data": {
      "text/plain": [
       "<HDF5 group \"/ee_mumu/e2\" (18 members)>"
      ]
     },
     "execution_count": 21,
     "metadata": {},
     "output_type": "execute_result"
    }
   ],
   "source": [
    "dataset_hdf5[\"ee_mumu\"][\"e2\"]"
   ]
  },
  {
   "cell_type": "code",
   "execution_count": 22,
   "id": "0beb7cd3-865e-4e6b-b115-c76a4e3a56e6",
   "metadata": {
    "tags": []
   },
   "outputs": [
    {
     "data": {
      "text/plain": [
       "<HDF5 group \"/ee_mumu/mu1\" (19 members)>"
      ]
     },
     "execution_count": 22,
     "metadata": {},
     "output_type": "execute_result"
    }
   ],
   "source": [
    "dataset_hdf5[\"ee_mumu\"][\"mu1\"]"
   ]
  },
  {
   "cell_type": "code",
   "execution_count": 23,
   "id": "53ef97d4-af89-4ee1-9964-3ceb0c0fcae5",
   "metadata": {
    "tags": []
   },
   "outputs": [
    {
     "data": {
      "text/plain": [
       "<HDF5 group \"/ee_mumu/mu2\" (19 members)>"
      ]
     },
     "execution_count": 23,
     "metadata": {},
     "output_type": "execute_result"
    }
   ],
   "source": [
    "dataset_hdf5[\"ee_mumu\"][\"mu2\"]"
   ]
  },
  {
   "cell_type": "code",
   "execution_count": 24,
   "id": "3851fefd-3e93-402a-8b8c-e8b6bd101941",
   "metadata": {
    "tags": []
   },
   "outputs": [
    {
     "data": {
      "text/plain": [
       "[<HDF5 dataset \"MET_phi\": shape (30868,), type \"<f4\">,\n",
       " <HDF5 dataset \"MET_pt\": shape (30868,), type \"<f4\">,\n",
       " <HDF5 dataset \"PV_x\": shape (30868,), type \"<f4\">,\n",
       " <HDF5 dataset \"PV_y\": shape (30868,), type \"<f4\">,\n",
       " <HDF5 dataset \"PV_z\": shape (30868,), type \"<f4\">,\n",
       " <HDF5 dataset \"charge\": shape (30868,), type \"<i4\">,\n",
       " <HDF5 dataset \"dxy\": shape (30868,), type \"<f4\">,\n",
       " <HDF5 dataset \"dxyErr\": shape (30868,), type \"<f4\">,\n",
       " <HDF5 dataset \"dz\": shape (30868,), type \"<f4\">,\n",
       " <HDF5 dataset \"dzErr\": shape (30868,), type \"<f4\">,\n",
       " <HDF5 dataset \"eta\": shape (30868,), type \"<f4\">,\n",
       " <HDF5 dataset \"event\": shape (30868,), type \"<u8\">,\n",
       " <HDF5 dataset \"luminosityBlock\": shape (30868,), type \"<i8\">,\n",
       " <HDF5 dataset \"mass\": shape (30868,), type \"<f4\">,\n",
       " <HDF5 dataset \"pfRelIso03_all\": shape (30868,), type \"<f4\">,\n",
       " <HDF5 dataset \"pfRelIso04_all\": shape (30868,), type \"<f4\">,\n",
       " <HDF5 dataset \"phi\": shape (30868,), type \"<f4\">,\n",
       " <HDF5 dataset \"pt\": shape (30868,), type \"<f4\">,\n",
       " <HDF5 dataset \"run\": shape (30868,), type \"<i4\">]"
      ]
     },
     "execution_count": 24,
     "metadata": {},
     "output_type": "execute_result"
    }
   ],
   "source": [
    "list(dataset_hdf5[\"ee_mumu\"][\"mu2\"].values())"
   ]
  },
  {
   "cell_type": "code",
   "execution_count": null,
   "id": "d9c9d50c-7a68-441a-8f34-94ed9f901188",
   "metadata": {},
   "outputs": [],
   "source": []
  },
  {
   "cell_type": "markdown",
   "id": "16a89f00-764c-4c0e-9b61-60dfb631413a",
   "metadata": {},
   "source": [
    "<br>\n",
    "\n",
    "The datasets in all four of these nested groups correspond to 30868 $ee\\mu\\mu$ events (drawn from a larger dataset than the JSON).\n",
    "\n",
    "Index `i` in every array corresponds to the same event `i`."
   ]
  },
  {
   "cell_type": "code",
   "execution_count": 25,
   "id": "24c4f4e1-e801-414b-a200-42f5c73fd16d",
   "metadata": {
    "tags": []
   },
   "outputs": [
    {
     "data": {
      "text/plain": [
       "np.float32(5.4658875)"
      ]
     },
     "execution_count": 25,
     "metadata": {},
     "output_type": "execute_result"
    }
   ],
   "source": [
    "dataset_hdf5[\"ee_mumu\"][\"e1\"][\"pt\"][0]"
   ]
  },
  {
   "cell_type": "code",
   "execution_count": 26,
   "id": "666ae8ae-da3e-4143-9ffb-cb2ad6e93930",
   "metadata": {
    "tags": []
   },
   "outputs": [
    {
     "data": {
      "text/plain": [
       "np.float32(6.2657995)"
      ]
     },
     "execution_count": 26,
     "metadata": {},
     "output_type": "execute_result"
    }
   ],
   "source": [
    "dataset_hdf5[\"ee_mumu\"][\"e2\"][\"pt\"][0]"
   ]
  },
  {
   "cell_type": "code",
   "execution_count": 27,
   "id": "ae41607a-770e-4316-a3a5-e87576e43a0b",
   "metadata": {
    "tags": []
   },
   "outputs": [
    {
     "data": {
      "text/plain": [
       "np.float32(39.615726)"
      ]
     },
     "execution_count": 27,
     "metadata": {},
     "output_type": "execute_result"
    }
   ],
   "source": [
    "dataset_hdf5[\"ee_mumu\"][\"mu1\"][\"pt\"][0]"
   ]
  },
  {
   "cell_type": "code",
   "execution_count": 28,
   "id": "dfb5d2f1-10ef-417d-a898-b7e2c846adb1",
   "metadata": {
    "tags": []
   },
   "outputs": [
    {
     "data": {
      "text/plain": [
       "np.float32(3.6974976)"
      ]
     },
     "execution_count": 28,
     "metadata": {},
     "output_type": "execute_result"
    }
   ],
   "source": [
    "dataset_hdf5[\"ee_mumu\"][\"mu2\"][\"pt\"][0]"
   ]
  },
  {
   "cell_type": "markdown",
   "id": "2ba68656-0a23-4091-b451-230f91b52e82",
   "metadata": {},
   "source": [
    "<br>\n",
    "\n",
    "From the JSON,"
   ]
  },
  {
   "cell_type": "code",
   "execution_count": 29,
   "id": "17a7aded-7ce6-4e1b-a55b-721b86cac931",
   "metadata": {
    "tags": []
   },
   "outputs": [
    {
     "name": "stdout",
     "output_type": "stream",
     "text": [
      "5.465887546539307\n",
      "6.265799522399902\n",
      "39.615726470947266\n",
      "3.697497606277466\n"
     ]
    }
   ],
   "source": [
    "for event in dataset_json:\n",
    "    if len(event[\"electron\"]) == 2 and len(event[\"muon\"]) == 2:\n",
    "        # find the first event with two electrons and two muons, then break out of the loop\n",
    "        break\n",
    "\n",
    "print(event[\"electron\"][0][\"pt\"])\n",
    "print(event[\"electron\"][1][\"pt\"])\n",
    "print(event[\"muon\"][0][\"pt\"])\n",
    "print(event[\"muon\"][1][\"pt\"])"
   ]
  },
  {
   "cell_type": "markdown",
   "id": "8265fa5d-88bf-4328-9a07-91359e81edca",
   "metadata": {},
   "source": [
    "<br><br><br>"
   ]
  },
  {
   "cell_type": "markdown",
   "id": "70872045-20e4-4ccd-b5dc-21ca86506c50",
   "metadata": {},
   "source": [
    "### Coordinate transformations"
   ]
  },
  {
   "cell_type": "markdown",
   "id": "3f7f851a-049c-4351-9c8b-014054e656be",
   "metadata": {},
   "source": [
    "Previously, we used the **vector** library to transform between `pt`, `phi`, `eta` and `px`, `py`, `pz`."
   ]
  },
  {
   "cell_type": "code",
   "execution_count": 30,
   "id": "50c2dd19-1fae-457b-8a5b-16d5570ba853",
   "metadata": {
    "tags": []
   },
   "outputs": [],
   "source": [
    "import vector"
   ]
  },
  {
   "cell_type": "code",
   "execution_count": 31,
   "id": "d611a32e-17ea-4080-b8a0-a6fa003849e9",
   "metadata": {
    "tags": []
   },
   "outputs": [],
   "source": [
    "v = vector.obj(\n",
    "    pt = event[\"electron\"][0][\"pt\"],\n",
    "    phi = event[\"electron\"][0][\"phi\"],\n",
    "    eta = event[\"electron\"][0][\"eta\"],\n",
    "    mass = event[\"electron\"][0][\"mass\"],\n",
    ")"
   ]
  },
  {
   "cell_type": "code",
   "execution_count": 32,
   "id": "a74ad530-beb2-4218-a0f4-879205afa2c8",
   "metadata": {
    "tags": []
   },
   "outputs": [
    {
     "data": {
      "text/plain": [
       "np.float64(0.8928464631442616)"
      ]
     },
     "execution_count": 32,
     "metadata": {},
     "output_type": "execute_result"
    }
   ],
   "source": [
    "v.px"
   ]
  },
  {
   "cell_type": "code",
   "execution_count": 33,
   "id": "5397def2-52b1-4ef9-9b05-67a3019799de",
   "metadata": {
    "tags": []
   },
   "outputs": [
    {
     "data": {
      "text/plain": [
       "np.float64(-5.392471776900113)"
      ]
     },
     "execution_count": 33,
     "metadata": {},
     "output_type": "execute_result"
    }
   ],
   "source": [
    "v.py"
   ]
  },
  {
   "cell_type": "code",
   "execution_count": 34,
   "id": "3596a3c1-690e-4f76-9535-8a13ded56f9b",
   "metadata": {
    "tags": []
   },
   "outputs": [
    {
     "data": {
      "text/plain": [
       "np.float64(14.102887973145489)"
      ]
     },
     "execution_count": 34,
     "metadata": {},
     "output_type": "execute_result"
    }
   ],
   "source": [
    "v.pz"
   ]
  },
  {
   "cell_type": "markdown",
   "id": "53dd3047-328b-413c-b03b-87eb7c2f0ab2",
   "metadata": {},
   "source": [
    "<br>\n",
    "\n",
    "We can still use the **vector** library because it also performs coordinate transformations on arrays (see [docs](https://vector.readthedocs.io/en/latest/usage/intro.html#NumPy-arrays-of-vectors))."
   ]
  },
  {
   "cell_type": "code",
   "execution_count": 35,
   "id": "6726778c-834d-49bf-adf7-238cf56c9696",
   "metadata": {
    "tags": []
   },
   "outputs": [],
   "source": [
    "e1 = vector.array({\n",
    "    \"pt\": dataset_hdf5[\"ee_mumu\"][\"e1\"][\"pt\"],\n",
    "    \"phi\": dataset_hdf5[\"ee_mumu\"][\"e1\"][\"phi\"],\n",
    "    \"eta\": dataset_hdf5[\"ee_mumu\"][\"e1\"][\"eta\"],\n",
    "    \"mass\": dataset_hdf5[\"ee_mumu\"][\"e1\"][\"mass\"],\n",
    "})"
   ]
  },
  {
   "cell_type": "code",
   "execution_count": 36,
   "id": "bbcbe62a-25c7-432f-a2f0-91e4294fb414",
   "metadata": {
    "tags": []
   },
   "outputs": [
    {
     "data": {
      "text/plain": [
       "array([  0.89284647, -14.884417  ,  38.424294  , ...,  25.543156  ,\n",
       "        26.030003  ,  17.343699  ], shape=(30868,), dtype=float32)"
      ]
     },
     "execution_count": 36,
     "metadata": {},
     "output_type": "execute_result"
    }
   ],
   "source": [
    "e1.px"
   ]
  },
  {
   "cell_type": "code",
   "execution_count": 37,
   "id": "f5546164-6405-48b5-8398-b234732ba139",
   "metadata": {
    "tags": []
   },
   "outputs": [
    {
     "data": {
      "text/plain": [
       "array([ -5.392472,  36.53877 , -28.779644, ..., -13.838857, -13.777791,\n",
       "        -8.069776], shape=(30868,), dtype=float32)"
      ]
     },
     "execution_count": 37,
     "metadata": {},
     "output_type": "execute_result"
    }
   ],
   "source": [
    "e1.py"
   ]
  },
  {
   "cell_type": "code",
   "execution_count": 38,
   "id": "c8ba519e-d7cc-48fb-ae93-6af172945004",
   "metadata": {
    "tags": []
   },
   "outputs": [
    {
     "data": {
      "text/plain": [
       "array([ 14.102889,  12.723335, 165.00693 , ...,  50.535534, -31.560045,\n",
       "        26.412724], shape=(30868,), dtype=float32)"
      ]
     },
     "execution_count": 38,
     "metadata": {},
     "output_type": "execute_result"
    }
   ],
   "source": [
    "e1.pz"
   ]
  },
  {
   "cell_type": "markdown",
   "id": "6e3016d8-5476-4982-9c9f-f8ef05505232",
   "metadata": {},
   "source": [
    "<br>"
   ]
  },
  {
   "cell_type": "code",
   "execution_count": 39,
   "id": "85edea66-ac95-448f-adf6-4935aa4cabbf",
   "metadata": {
    "tags": []
   },
   "outputs": [],
   "source": [
    "e2 = vector.array({\n",
    "    \"pt\": dataset_hdf5[\"ee_mumu\"][\"e2\"][\"pt\"],\n",
    "    \"phi\": dataset_hdf5[\"ee_mumu\"][\"e2\"][\"phi\"],\n",
    "    \"eta\": dataset_hdf5[\"ee_mumu\"][\"e2\"][\"eta\"],\n",
    "    \"mass\": dataset_hdf5[\"ee_mumu\"][\"e2\"][\"mass\"],\n",
    "})\n",
    "mu1 = vector.array({\n",
    "    \"pt\": dataset_hdf5[\"ee_mumu\"][\"mu1\"][\"pt\"],\n",
    "    \"phi\": dataset_hdf5[\"ee_mumu\"][\"mu1\"][\"phi\"],\n",
    "    \"eta\": dataset_hdf5[\"ee_mumu\"][\"mu1\"][\"eta\"],\n",
    "    \"mass\": dataset_hdf5[\"ee_mumu\"][\"mu1\"][\"mass\"],\n",
    "})\n",
    "mu2 = vector.array({\n",
    "    \"pt\": dataset_hdf5[\"ee_mumu\"][\"mu2\"][\"pt\"],\n",
    "    \"phi\": dataset_hdf5[\"ee_mumu\"][\"mu2\"][\"phi\"],\n",
    "    \"eta\": dataset_hdf5[\"ee_mumu\"][\"mu2\"][\"eta\"],\n",
    "    \"mass\": dataset_hdf5[\"ee_mumu\"][\"mu2\"][\"mass\"],\n",
    "})"
   ]
  },
  {
   "cell_type": "markdown",
   "id": "d48c7caf-e9da-4030-977e-1031a1d7feb0",
   "metadata": {},
   "source": [
    "<br>\n",
    "\n",
    "Mass of the $Z$ boson constructed from $ee$:"
   ]
  },
  {
   "cell_type": "code",
   "execution_count": 40,
   "id": "64e2f045-2305-4bfe-8933-280456f5a473",
   "metadata": {
    "tags": []
   },
   "outputs": [
    {
     "data": {
      "text/plain": [
       "array([21.73193 , 89.20303 , 90.2857  , ..., 42.418484, 91.836815,\n",
       "       27.277544], shape=(30868,), dtype=float32)"
      ]
     },
     "execution_count": 40,
     "metadata": {},
     "output_type": "execute_result"
    }
   ],
   "source": [
    "zmass_ee = (e1 + e2).mass\n",
    "zmass_ee"
   ]
  },
  {
   "cell_type": "markdown",
   "id": "8142f6b2-055b-4143-842c-2fe5470982d9",
   "metadata": {},
   "source": [
    "<br>\n",
    "\n",
    "Mass of the $Z$ boson constructed from $\\mu\\mu$:"
   ]
  },
  {
   "cell_type": "code",
   "execution_count": 41,
   "id": "6e1b7fe9-7e27-4d27-b5ee-4c0d69d963b6",
   "metadata": {
    "tags": []
   },
   "outputs": [
    {
     "data": {
      "text/plain": [
       "array([ 4.5936437, 27.516134 , 22.878841 , ..., 75.887665 ,  0.7616286,\n",
       "       90.034966 ], shape=(30868,), dtype=float32)"
      ]
     },
     "execution_count": 41,
     "metadata": {},
     "output_type": "execute_result"
    }
   ],
   "source": [
    "zmass_mumu = (mu1 + mu2).mass\n",
    "zmass_mumu"
   ]
  },
  {
   "cell_type": "markdown",
   "id": "cefb6611-3f25-4354-9d6a-4f767237c1ba",
   "metadata": {},
   "source": [
    "<br><br><br><br><br>"
   ]
  },
  {
   "cell_type": "markdown",
   "id": "3610fdc9-9f8f-4257-babd-1f15744d90b9",
   "metadata": {},
   "source": [
    "## Exercise part 1"
   ]
  },
  {
   "attachments": {
    "63d49174-4665-4875-95b5-9783880597f9.png": {
     "image/png": "[encoded data removed]"
    }
   },
   "cell_type": "markdown",
   "id": "c3b5dd5c-1282-47ad-9d06-45685f5baf89",
   "metadata": {},
   "source": [
    "Plot `zmass_mumu` versus `zmass_ee`. It should look like this (60 bins×60 bins):\n",
    "\n",
    "![image.png](attachment:63d49174-4665-4875-95b5-9783880597f9.png)"
   ]
  },
  {
   "cell_type": "markdown",
   "id": "78aed1df-1729-4d17-b8ca-d4263e112894",
   "metadata": {},
   "source": [
    "**ANSWER HERE:**"
   ]
  },
  {
   "cell_type": "code",
   "execution_count": 55,
   "id": "2d90e2d9-fd43-44f0-b5ab-c18e06c98c04",
   "metadata": {},
   "outputs": [
    {
     "data": {
      "text/html": [
       "<html>\n",
       "<div style=\"display:flex; align-items:center;\">\n",
       "<div style=\"width:290px;\">\n",
       "<svg xmlns=\"http://www.w3.org/2000/svg\" viewBox=\"-10 -105 270 120\">\n",
       "<line x1=\"-5\" y1=\"0\" x2=\"255\" y2=\"0\" style=\"fill:none;stroke-width:2;stroke:currentColor\"/>\n",
       "<text text-anchor=\"middle\" x=\"0\" y=\"15\" style=\"fill:currentColor;\">\n",
       "0\n",
       "</text>\n",
       "<text text-anchor=\"middle\" x=\"250\" y=\"15\" style=\"fill:currentColor;\">\n",
       "0.5\n",
       "</text>\n",
       "<text text-anchor=\"middle\" x=\"125.0\" y=\"15\" style=\"fill:currentColor;\">\n",
       "Axis 0\n",
       "</text>\n",
       "<polyline points=\"  0,0   0,-0 2.5,-0 2.5,-0   5,-0   5,-0 7.5,-0 7.5,-0  10,-0  10,-0 12.5,-0 12.5,-0  15,-0  15,-0 17.5,-0 17.5,-0  20,-0  20,-0 22.5,-0 22.5,-0  25,-0  25,-0 27.5,-0 27.5,-0  30,-0  30,-0 32.5,-0 32.5,-0  35,-0  35,-0 37.5,-0 37.5,-0  40,-0  40,-0 42.5,-0 42.5,-0  45,-0  45,-0 47.5,-0 47.5,-0  50,-0  50,-0 52.5,-0 52.5,-0  55,-0  55,-0 57.5,-0 57.5,-0  60,-0  60,-0 62.5,-0 62.5,-0  65,-0  65,-0 67.5,-0 67.5,-0  70,-0  70,-0 72.5,-0 72.5,-0  75,-0  75,-0 77.5,-0 77.5,-0  80,-0  80,-0 82.5,-0 82.5,-0  85,-0  85,-0 87.5,-0 87.5,-0  90,-0  90,-0 92.5,-0 92.5,-0  95,-0  95,-0 97.5,-0 97.5,-0 100,-0 100,-0 102.5,-0 102.5,-12.5 105,-12.5 105,-56.2 107.5,-56.2 107.5,-100 110,-100 110,-81.2 112.5,-81.2 112.5,-37.5 115,-37.5 115,-62.5 117.5,-62.5 117.5,-43.8 120,-43.8 120,-68.8 122.5,-68.8 122.5,-50 125,-50 125,-31.2 127.5,-31.2 127.5,-62.5 130,-62.5 130,-37.5 132.5,-37.5 132.5,-37.5 135,-37.5 135,-12.5 137.5,-12.5 137.5,-31.2 140,-31.2 140,-37.5 142.5,-37.5 142.5,-18.8 145,-18.8 145,-25 147.5,-25 147.5,-25 150,-25 150,-6.25 152.5,-6.25 152.5,-31.2 155,-31.2 155,-6.25 157.5,-6.25 157.5,-12.5 160,-12.5 160,-6.25 162.5,-6.25 162.5,-25 165,-25 165,-6.25 167.5,-6.25 167.5,-18.8 170,-18.8 170,-12.5 172.5,-12.5 172.5,-18.8 175,-18.8 175,-12.5 177.5,-12.5 177.5,-6.25 180,-6.25 180,-0 182.5,-0 182.5,-6.25 185,-6.25 185,-6.25 187.5,-6.25 187.5,-12.5 190,-12.5 190,-6.25 192.5,-6.25 192.5,-6.25 195,-6.25 195,-18.8 197.5,-18.8 197.5,-6.25 200,-6.25 200,-12.5 202.5,-12.5 202.5,-6.25 205,-6.25 205,-0 207.5,-0 207.5,-18.8 210,-18.8 210,-25 212.5,-25 212.5,-12.5 215,-12.5 215,-12.5 217.5,-12.5 217.5,-0 220,-0 220,-6.25 222.5,-6.25 222.5,-6.25 225,-6.25 225,-18.8 227.5,-18.8 227.5,-6.25 230,-6.25 230,-0 232.5,-0 232.5,-6.25 235,-6.25 235,-12.5 237.5,-12.5 237.5,-6.25 240,-6.25 240,-6.25 242.5,-6.25 242.5,-6.25 245,-6.25 245,-6.25 247.5,-6.25 247.5,-12.5 250,-12.5 250,0\" style=\"fill:none; stroke:currentColor;\"/>\n",
       "</svg>\n",
       "</div>\n",
       "<div style=\"flex=grow:1;\">\n",
       "Regular(100, 0, 0.5, label='Axis 0')<br/>\n",
       "<hr style=\"margin-top:.2em; margin-bottom:.2em;\"/>\n",
       "Double() Σ=198.0 <em>(30868.0 with flow)</em>\n",
       "\n",
       "</div>\n",
       "</div>\n",
       "</html>"
      ],
      "text/plain": [
       "Hist(Regular(100, 0, 0.5, label='Axis 0'), storage=Double()) # Sum: 198.0 (30868.0 with flow)"
      ]
     },
     "execution_count": 55,
     "metadata": {},
     "output_type": "execute_result"
    }
   ],
   "source": [
    "hist.Hist.new.Regular(100, 0, 0.5).Double().fill(zmass_mumu)"
   ]
  },
  {
   "cell_type": "code",
   "execution_count": 68,
   "id": "9f5f2c1a-9b14-46e0-8ee0-2b2a9907f27a",
   "metadata": {
    "tags": []
   },
   "outputs": [
    {
     "data": {
      "text/plain": [
       "'\\npv_hist = (\\n    hist.Hist.new\\n    .Regular(1000, 0, 0.5, name=\"x\")\\n    .Regular(1000, -0.5, 0.5, name=\"y\")\\n    .Regular(100, -20.0, 20.0, name=\"z\")\\n    .Double()\\n    .fill(x=pv_x, y=pv_y, z=pv_z)\\n)\\npv_histb\\n'"
      ]
     },
     "execution_count": 68,
     "metadata": {},
     "output_type": "execute_result"
    }
   ],
   "source": [
    "PV_hist_ex = (hist.Hist.new.Regular(60, 0, 120, name=\"x\").Regular(60, 0, 120, name=\"y\").Double().fill(x=zmass_ee, y=zmass_mumu))\n",
    "PV_hist_ex\n",
    "'''\n",
    "pv_hist = (\n",
    "    hist.Hist.new\n",
    "    .Regular(1000, 0, 0.5, name=\"x\")\n",
    "    .Regular(1000, -0.5, 0.5, name=\"y\")\n",
    "    .Regular(100, -20.0, 20.0, name=\"z\")\n",
    "    .Double()\n",
    "    .fill(x=pv_x, y=pv_y, z=pv_z)\n",
    ")\n",
    "pv_histb\n",
    "'''"
   ]
  },
  {
   "cell_type": "code",
   "execution_count": 69,
   "id": "2574d04c-9629-41f4-8d7a-3c5d221a70bd",
   "metadata": {},
   "outputs": [
    {
     "data": {
      "image/png": "[encoded data removed]",
      "text/plain": [
       "<Figure size 640x480 with 3 Axes>"
      ]
     },
     "metadata": {},
     "output_type": "display_data"
    }
   ],
   "source": [
    "PV_hist_ex[:, :].plot2d_full();"
   ]
  },
  {
   "cell_type": "markdown",
   "id": "076f9493-8540-4f5a-b4c3-3ba944230dff",
   "metadata": {},
   "source": [
    "<br><br><br><br><br>"
   ]
  },
  {
   "cell_type": "markdown",
   "id": "2c0a0526-d109-4a96-96cc-ebe0424453a1",
   "metadata": {},
   "source": [
    "## Exercise part 2"
   ]
  },
  {
   "attachments": {
    "fadeda1f-3d82-4e50-bfaa-be8234c4aae0.png": {
     "image/png": "[encoded data removed]"
    }
   },
   "cell_type": "markdown",
   "id": "6af54232-c9d6-48d9-99d2-4703251261a5",
   "metadata": {},
   "source": [
    "Plot the Higgs mass. It should look like this (100 bins):\n",
    "\n",
    "![image.png](attachment:fadeda1f-3d82-4e50-bfaa-be8234c4aae0.png)"
   ]
  },
  {
   "cell_type": "markdown",
   "id": "3b4c078b-d247-4678-bd16-1875d3ed4be6",
   "metadata": {},
   "source": [
    "**ANSWER HERE:**"
   ]
  },
  {
   "cell_type": "code",
   "execution_count": 76,
   "id": "84c3e844-e711-43ba-b44b-39ea8d200ed9",
   "metadata": {},
   "outputs": [],
   "source": [
    "Higgs_mass = (e1+e2+mu1+mu2).mass"
   ]
  },
  {
   "cell_type": "code",
   "execution_count": 77,
   "id": "7f1ea107-28de-4c02-b6db-66dd3cef4749",
   "metadata": {
    "tags": []
   },
   "outputs": [
    {
     "data": {
      "image/png": "[encoded data removed]",
      "text/plain": [
       "<Figure size 640x480 with 1 Axes>"
      ]
     },
     "metadata": {},
     "output_type": "display_data"
    }
   ],
   "source": [
    "hist.Hist.new.Regular(100, 0, 200, name=\"higgs_mass\").Double().fill(Higgs_mass).plot();"
   ]
  },
  {
   "cell_type": "markdown",
   "id": "e87772bb-477a-487d-ab66-14a6e0e1994c",
   "metadata": {},
   "source": [
    "<br><br><br>"
   ]
  },
  {
   "cell_type": "markdown",
   "id": "9bfa8e3e-2c4d-467e-8ce3-2a99be78eb0c",
   "metadata": {},
   "source": [
    "### Charge quality cut"
   ]
  },
  {
   "cell_type": "markdown",
   "id": "e343694b-7a72-4abb-9952-e4227e1c5e0d",
   "metadata": {},
   "source": [
    "In the next part of the exercise, you'll apply quality cuts.\n",
    "\n",
    "**First quality cut:** The two electrons are $e^+$ and $e^-$ and the two muons are $\\mu^+$ and $\\mu^-$."
   ]
  },
  {
   "cell_type": "markdown",
   "id": "3b71dbb0-c22c-442f-8f5a-03dbb645440c",
   "metadata": {},
   "source": [
    "<br>\n",
    "\n",
    "Get the particle charges as arrays:"
   ]
  },
  {
   "cell_type": "code",
   "execution_count": 78,
   "id": "80e8bcad-986d-48e7-a487-2b525b1f3912",
   "metadata": {
    "tags": []
   },
   "outputs": [],
   "source": [
    "e1_charge = np.asarray(dataset_hdf5[\"ee_mumu\"][\"e1\"][\"charge\"])\n",
    "e2_charge = np.asarray(dataset_hdf5[\"ee_mumu\"][\"e2\"][\"charge\"])\n",
    "mu1_charge = np.asarray(dataset_hdf5[\"ee_mumu\"][\"mu1\"][\"charge\"])\n",
    "mu2_charge = np.asarray(dataset_hdf5[\"ee_mumu\"][\"mu2\"][\"charge\"])"
   ]
  },
  {
   "cell_type": "markdown",
   "id": "892589c0-3b40-456f-880b-5ab3bedf660a",
   "metadata": {},
   "source": [
    "<br>\n",
    "\n",
    "Let's look at the distribution of charges in a 5 bin×5 bin histogram."
   ]
  },
  {
   "cell_type": "code",
   "execution_count": 43,
   "id": "90aad7fd-4cd0-455e-a428-5c77b75c90a2",
   "metadata": {
    "tags": []
   },
   "outputs": [
    {
     "data": {
      "text/html": [
       "<html>\n",
       "<div style=\"display:flex; align-items:center;\">\n",
       "<div style=\"width:290px;\">\n",
       "<svg xmlns=\"http://www.w3.org/2000/svg\" viewBox=\"-20 -270 290 290\">\n",
       "<text text-anchor=\"middle\" x=\"0\" y=\"13\" style=\"fill:currentColor;\">\n",
       "-2\n",
       "</text>\n",
       "<text text-anchor=\"middle\" x=\"250\" y=\"13\" style=\"fill:currentColor;\">\n",
       "3\n",
       "</text>\n",
       "<text text-anchor=\"middle\" x=\"-10\" y=\"0\" style=\"fill:currentColor;\">\n",
       "-2\n",
       "</text>\n",
       "<text text-anchor=\"middle\" x=\"-10\" y=\"-250\" style=\"fill:currentColor;\">\n",
       "3\n",
       "</text>\n",
       "<text text-anchor=\"middle\" x=\"125.0\" y=\"13\" style=\"fill:currentColor;\">\n",
       "q_ee\n",
       "</text>\n",
       "<text text-anchor=\"middle\" x=\"-10\" y=\"-125.0\" transform=\"rotate(-90,-10,-125.0)\" style=\"fill:currentColor;\">\n",
       "q_mumu\n",
       "</text>\n",
       "<rect x=\"0.0\" y=\"-50.0\" width=\"50.0\" height=\"50.0\" opacity=\"0.0017093395402967705\" fill=\"currentColor\" stroke-width=\"0.1\"/>\n",
       "<rect x=\"50.0\" y=\"-50.0\" width=\"50.0\" height=\"50.0\" opacity=\"0.0\" fill=\"currentColor\" stroke-width=\"0.1\"/>\n",
       "<rect x=\"100.0\" y=\"-50.0\" width=\"50.0\" height=\"50.0\" opacity=\"0.01876636601687518\" fill=\"currentColor\" stroke-width=\"0.1\"/>\n",
       "<rect x=\"150.0\" y=\"-50.0\" width=\"50.0\" height=\"50.0\" opacity=\"0.0\" fill=\"currentColor\" stroke-width=\"0.1\"/>\n",
       "<rect x=\"200.0\" y=\"-50.0\" width=\"50.0\" height=\"50.0\" opacity=\"0.0024003491416933367\" fill=\"currentColor\" stroke-width=\"0.1\"/>\n",
       "<rect x=\"0.0\" y=\"-100.0\" width=\"50.0\" height=\"50.0\" opacity=\"0.0\" fill=\"currentColor\" stroke-width=\"0.1\"/>\n",
       "<rect x=\"50.0\" y=\"-100.0\" width=\"50.0\" height=\"50.0\" opacity=\"0.0\" fill=\"currentColor\" stroke-width=\"0.1\"/>\n",
       "<rect x=\"100.0\" y=\"-100.0\" width=\"50.0\" height=\"50.0\" opacity=\"0.0\" fill=\"currentColor\" stroke-width=\"0.1\"/>\n",
       "<rect x=\"150.0\" y=\"-100.0\" width=\"50.0\" height=\"50.0\" opacity=\"0.0\" fill=\"currentColor\" stroke-width=\"0.1\"/>\n",
       "<rect x=\"200.0\" y=\"-100.0\" width=\"50.0\" height=\"50.0\" opacity=\"0.0\" fill=\"currentColor\" stroke-width=\"0.1\"/>\n",
       "<rect x=\"0.0\" y=\"-150.0\" width=\"50.0\" height=\"50.0\" opacity=\"0.0409514111143439\" fill=\"currentColor\" stroke-width=\"0.1\"/>\n",
       "<rect x=\"50.0\" y=\"-150.0\" width=\"50.0\" height=\"50.0\" opacity=\"0.0\" fill=\"currentColor\" stroke-width=\"0.1\"/>\n",
       "<rect x=\"100.0\" y=\"-150.0\" width=\"50.0\" height=\"50.0\" opacity=\"1.0\" fill=\"currentColor\" stroke-width=\"0.1\"/>\n",
       "<rect x=\"150.0\" y=\"-150.0\" width=\"50.0\" height=\"50.0\" opacity=\"0.0\" fill=\"currentColor\" stroke-width=\"0.1\"/>\n",
       "<rect x=\"200.0\" y=\"-150.0\" width=\"50.0\" height=\"50.0\" opacity=\"0.03644166424207157\" fill=\"currentColor\" stroke-width=\"0.1\"/>\n",
       "<rect x=\"0.0\" y=\"-200.0\" width=\"50.0\" height=\"50.0\" opacity=\"0.0\" fill=\"currentColor\" stroke-width=\"0.1\"/>\n",
       "<rect x=\"50.0\" y=\"-200.0\" width=\"50.0\" height=\"50.0\" opacity=\"0.0\" fill=\"currentColor\" stroke-width=\"0.1\"/>\n",
       "<rect x=\"100.0\" y=\"-200.0\" width=\"50.0\" height=\"50.0\" opacity=\"0.0\" fill=\"currentColor\" stroke-width=\"0.1\"/>\n",
       "<rect x=\"150.0\" y=\"-200.0\" width=\"50.0\" height=\"50.0\" opacity=\"0.0\" fill=\"currentColor\" stroke-width=\"0.1\"/>\n",
       "<rect x=\"200.0\" y=\"-200.0\" width=\"50.0\" height=\"50.0\" opacity=\"0.0\" fill=\"currentColor\" stroke-width=\"0.1\"/>\n",
       "<rect x=\"0.0\" y=\"-250.0\" width=\"50.0\" height=\"50.0\" opacity=\"0.002618562700029095\" fill=\"currentColor\" stroke-width=\"0.1\"/>\n",
       "<rect x=\"50.0\" y=\"-250.0\" width=\"50.0\" height=\"50.0\" opacity=\"0.0\" fill=\"currentColor\" stroke-width=\"0.1\"/>\n",
       "<rect x=\"100.0\" y=\"-250.0\" width=\"50.0\" height=\"50.0\" opacity=\"0.0181480942682572\" fill=\"currentColor\" stroke-width=\"0.1\"/>\n",
       "<rect x=\"150.0\" y=\"-250.0\" width=\"50.0\" height=\"50.0\" opacity=\"0.0\" fill=\"currentColor\" stroke-width=\"0.1\"/>\n",
       "<rect x=\"200.0\" y=\"-250.0\" width=\"50.0\" height=\"50.0\" opacity=\"0.0016002327611288915\" fill=\"currentColor\" stroke-width=\"0.1\"/>\n",
       "</svg>\n",
       "</div>\n",
       "<div style=\"flex=grow:1;\">\n",
       "Integer(-2, 3, name='q_ee')<br/>\n",
       "Integer(-2, 3, name='q_mumu')<br/>\n",
       "<hr style=\"margin-top:.2em; margin-bottom:.2em;\"/>\n",
       "Double() Σ=30868.0\n",
       "\n",
       "</div>\n",
       "</div>\n",
       "</html>"
      ],
      "text/plain": [
       "Hist(\n",
       "  Integer(-2, 3, name='q_ee'),\n",
       "  Integer(-2, 3, name='q_mumu'),\n",
       "  storage=Double()) # Sum: 30868.0"
      ]
     },
     "execution_count": 43,
     "metadata": {},
     "output_type": "execute_result"
    }
   ],
   "source": [
    "charge_hist = hist.Hist.new.Integer(-2, 3, name=\"q_ee\").Integer(-2, 3, name=\"q_mumu\").Double().fill(\n",
    "    q_ee=e1_charge + e2_charge,\n",
    "    q_mumu=mu1_charge + mu2_charge,\n",
    ")\n",
    "charge_hist"
   ]
  },
  {
   "cell_type": "markdown",
   "id": "726ca511-d780-4896-b0ca-8fcbad916540",
   "metadata": {},
   "source": [
    "<br>\n",
    "\n",
    "Most of the distribution is at `e1_charge + e2_charge == 0` and `mu1_charge + mu2_charge == 0` (high quality Higgs events).\n",
    "\n",
    "We can ask the histogram for its bin data as an array:"
   ]
  },
  {
   "cell_type": "code",
   "execution_count": 44,
   "id": "0d9059b8-dfd8-44ba-b4bf-958a0a8b3e7a",
   "metadata": {
    "tags": []
   },
   "outputs": [
    {
     "data": {
      "text/plain": [
       "array([[   47.,     0.,  1126.,     0.,    72.],\n",
       "       [    0.,     0.,     0.,     0.,     0.],\n",
       "       [  516.,     0., 27496.,     0.,   499.],\n",
       "       [    0.,     0.,     0.,     0.,     0.],\n",
       "       [   66.,     0.,  1002.,     0.,    44.]])"
      ]
     },
     "execution_count": 44,
     "metadata": {},
     "output_type": "execute_result"
    }
   ],
   "source": [
    "charge_hist.values()"
   ]
  },
  {
   "cell_type": "markdown",
   "id": "51f42faa-bdf7-4b65-80ae-a28752794295",
   "metadata": {},
   "source": [
    "Why is it distributed like that?"
   ]
  },
  {
   "cell_type": "code",
   "execution_count": null,
   "id": "c5da9d9c-da0e-4e26-b71e-4ddfc425fe34",
   "metadata": {},
   "outputs": [],
   "source": []
  },
  {
   "cell_type": "markdown",
   "id": "ec98a3cb-8cf4-481f-b907-c5675ce2b37d",
   "metadata": {},
   "source": [
    "<br>\n",
    "\n",
    "We can also use Matplotlib to make overlays of cross-sections that do not include the central peak."
   ]
  },
  {
   "cell_type": "code",
   "execution_count": 45,
   "id": "be4ba4ec-fc36-466e-95c1-2e1c6fa9d40e",
   "metadata": {
    "tags": []
   },
   "outputs": [],
   "source": [
    "import matplotlib.pyplot as plt"
   ]
  },
  {
   "cell_type": "code",
   "execution_count": 46,
   "id": "27daf823-1639-467c-9884-d5d7ed39d6c5",
   "metadata": {
    "tags": []
   },
   "outputs": [
    {
     "data": {
      "image/png": "[encoded data removed]",
      "text/plain": [
       "<Figure size 800x400 with 2 Axes>"
      ]
     },
     "metadata": {},
     "output_type": "display_data"
    }
   ],
   "source": [
    "fig, (ax1, ax2) = plt.subplots(1, 2, figsize=(8, 4))\n",
    "\n",
    "charge_hist[:, 0].plot(ax=ax1);\n",
    "charge_hist[:, 4].plot(ax=ax1);\n",
    "charge_hist[0, :].plot(ax=ax2);\n",
    "charge_hist[4, :].plot(ax=ax2);"
   ]
  },
  {
   "cell_type": "markdown",
   "id": "0b09469c-ac71-4fe4-accb-58f680f0841a",
   "metadata": {},
   "source": [
    "<br>\n",
    "\n",
    "To select events with `e1_charge + e2_charge == 0` and `mu1_charge + mu2_charge == 0`, we can make each expression into a boolean array,"
   ]
  },
  {
   "cell_type": "code",
   "execution_count": 47,
   "id": "3c3464c8-5623-48af-8ae8-b8b6580e3297",
   "metadata": {
    "tags": []
   },
   "outputs": [
    {
     "data": {
      "text/plain": [
       "array([ True,  True,  True, ...,  True,  True,  True], shape=(30868,))"
      ]
     },
     "execution_count": 47,
     "metadata": {},
     "output_type": "execute_result"
    }
   ],
   "source": [
    "e1_charge + e2_charge == 0"
   ]
  },
  {
   "cell_type": "markdown",
   "id": "61652cdc-ca13-49f4-83f9-a09c77cce287",
   "metadata": {},
   "source": [
    "and apply it as a slice."
   ]
  },
  {
   "cell_type": "code",
   "execution_count": 48,
   "id": "27f50c69-20fb-45f2-92ef-f6cb602f4def",
   "metadata": {
    "tags": []
   },
   "outputs": [
    {
     "data": {
      "image/png": "[encoded data removed]",
      "text/plain": [
       "<Figure size 640x480 with 1 Axes>"
      ]
     },
     "metadata": {},
     "output_type": "display_data"
    }
   ],
   "source": [
    "fix, ax = plt.subplots(1, 1)\n",
    "\n",
    "hist.Hist.new.Regular(120, 0, 120, name=\"mass Z_ee\").Double().fill(\n",
    "    zmass_ee\n",
    ").plot(ax=ax);\n",
    "\n",
    "hist.Hist.new.Regular(120, 0, 120, name=\"mass Z_ee\").Double().fill(\n",
    "    zmass_ee[e1_charge + e2_charge == 0]\n",
    ").plot(ax=ax);"
   ]
  },
  {
   "cell_type": "markdown",
   "id": "a135b734-7681-4707-b404-f13a6904bbbe",
   "metadata": {},
   "source": [
    "<br>\n",
    "\n",
    "But how do you apply both?\n",
    "\n",
    "Unfortunately, you have to use `&` for \"and\", `|` for \"or\", `~` for \"not\".\n",
    "\n",
    "This is unfortunate because the comparison operation (`==`, `!=`, `<`, `>`, `<=`, `>=`) has to be surrounded by parentheses for the right order of operations."
   ]
  },
  {
   "cell_type": "code",
   "execution_count": 49,
   "id": "d7a7c340-6950-46ba-9e16-4589ae77d519",
   "metadata": {
    "tags": []
   },
   "outputs": [
    {
     "data": {
      "image/png": "[encoded data removed]",
      "text/plain": [
       "<Figure size 640x480 with 1 Axes>"
      ]
     },
     "metadata": {},
     "output_type": "display_data"
    }
   ],
   "source": [
    "fix, ax = plt.subplots(1, 1)\n",
    "\n",
    "hist.Hist.new.Regular(120, 0, 120, name=\"mass Z_mumu\").Double().fill(\n",
    "    zmass_mumu\n",
    ").plot(ax=ax);\n",
    "\n",
    "hist.Hist.new.Regular(120, 0, 120, name=\"mass Z_mumu\").Double().fill(\n",
    "    zmass_mumu[e1_charge + e2_charge == 0]\n",
    ").plot(ax=ax);\n",
    "\n",
    "hist.Hist.new.Regular(120, 0, 120, name=\"mass Z_mumu\").Double().fill(\n",
    "    zmass_mumu[(e1_charge + e2_charge == 0) & (mu1_charge + mu2_charge == 0)]\n",
    ").plot(ax=ax);"
   ]
  },
  {
   "cell_type": "markdown",
   "id": "4db9a57a-8bf5-4098-b279-07e547c80d49",
   "metadata": {},
   "source": [
    "<br><br><br><br><br>"
   ]
  },
  {
   "cell_type": "markdown",
   "id": "4c33c74c-5fa3-40ca-a1ff-17e71e9fc52c",
   "metadata": {},
   "source": [
    "## Exercise part 3"
   ]
  },
  {
   "attachments": {
    "a0b24dd8-fa2b-44f0-8f82-7372ee7d682c.png": {
     "image/png": "[encoded data removed]"
    }
   },
   "cell_type": "markdown",
   "id": "4e8eb0ad-d7c4-4a65-8d65-19afda2beb5d",
   "metadata": {},
   "source": [
    "Since most of the data would pass the charge cut, the difference that it makes to the final Higgs mass plot is barely perceptible. Instead, draw the Higgs mass with only those events that _fail_ the charge quality cut.\n",
    "\n",
    "It should look like this (100 bins):\n",
    "\n",
    "![image.png](attachment:a0b24dd8-fa2b-44f0-8f82-7372ee7d682c.png)"
   ]
  },
  {
   "cell_type": "markdown",
   "id": "726029c8-7a02-4b7e-9e97-325ef9204619",
   "metadata": {},
   "source": [
    "**ANSWER HERE:**"
   ]
  },
  {
   "cell_type": "code",
   "execution_count": 88,
   "id": "a9018bb5-8f26-4a16-8616-1a475380978b",
   "metadata": {},
   "outputs": [
    {
     "data": {
      "image/png": "[encoded data removed]",
      "text/plain": [
       "<Figure size 640x480 with 1 Axes>"
      ]
     },
     "metadata": {},
     "output_type": "display_data"
    }
   ],
   "source": [
    "fix, ax = plt.subplots(1, 1)\n",
    "\n",
    "hist.Hist.new.Regular(100, 0, 200, name=\"Higgs Mass with charge anti-cut\").Double().fill(\n",
    "    Higgs_mass[(e1_charge + e2_charge != 0) | (mu1_charge + mu2_charge != 0)]\n",
    ").plot(ax=ax);"
   ]
  },
  {
   "cell_type": "markdown",
   "id": "1b31591f-2b78-4119-b6ab-a58ff80b1428",
   "metadata": {},
   "source": [
    "<br><br><br>"
   ]
  },
  {
   "cell_type": "markdown",
   "id": "ad6f1b56-89bd-4828-a09e-0d390cf85808",
   "metadata": {},
   "source": [
    "### Z mass quality cut"
   ]
  },
  {
   "cell_type": "markdown",
   "id": "78034f33-272c-4b3d-8208-e76a82833448",
   "metadata": {},
   "source": [
    "**Second quality cut:**\n",
    "\n",
    "  * 12 GeV/$c^2$ < smallest Z mass < 120 GeV/$c^2$\n",
    "  * 40 GeV/$c^2$ < largest Z mass < 120 GeV/$c^2$"
   ]
  },
  {
   "cell_type": "markdown",
   "id": "cdecc136-29cc-4e80-85ca-32de487edbef",
   "metadata": {},
   "source": [
    "Now that you have"
   ]
  },
  {
   "cell_type": "code",
   "execution_count": 50,
   "id": "46aeb57d-1ec3-43c4-8c05-133c34c3e180",
   "metadata": {
    "tags": []
   },
   "outputs": [
    {
     "data": {
      "text/plain": [
       "array([21.73193 , 89.20303 , 90.2857  , ..., 42.418484, 91.836815,\n",
       "       27.277544], shape=(30868,), dtype=float32)"
      ]
     },
     "execution_count": 50,
     "metadata": {},
     "output_type": "execute_result"
    }
   ],
   "source": [
    "zmass_ee"
   ]
  },
  {
   "cell_type": "code",
   "execution_count": 51,
   "id": "38a94239-7186-4c41-a0fe-eb317becb3fc",
   "metadata": {
    "tags": []
   },
   "outputs": [
    {
     "data": {
      "text/plain": [
       "array([ 4.5936437, 27.516134 , 22.878841 , ..., 75.887665 ,  0.7616286,\n",
       "       90.034966 ], shape=(30868,), dtype=float32)"
      ]
     },
     "execution_count": 51,
     "metadata": {},
     "output_type": "execute_result"
    }
   ],
   "source": [
    "zmass_mumu"
   ]
  },
  {
   "cell_type": "markdown",
   "id": "385bce13-a380-4e2c-8b3f-a37c00cdd409",
   "metadata": {},
   "source": [
    "it would be relatively straightforward to apply selections to the $Z \\to ee$ and $Z \\to \\mu\\mu$, but we need to apply selections to `zmass_small` and `zmass_big`."
   ]
  },
  {
   "cell_type": "markdown",
   "id": "23fda3fe-055f-42d4-9196-b3aca5a6712d",
   "metadata": {},
   "source": [
    "<br><br><br><br><br>"
   ]
  },
  {
   "cell_type": "markdown",
   "id": "41dfc956-8a3f-45ed-a462-a8275de315eb",
   "metadata": {},
   "source": [
    "## Exercise part 4"
   ]
  },
  {
   "attachments": {
    "ba75be3e-f376-4359-b0c4-09bfa8546126.png": {
     "image/png": "[encoded data removed]"
    }
   },
   "cell_type": "markdown",
   "id": "e230ccec-2bdc-4962-b67e-308064166c2e",
   "metadata": {},
   "source": [
    "Define `zmass_small` and `zmass_big` and plot them. There are several ways to do that.\n",
    "\n",
    "It should look like this (60 bins×60 bins):\n",
    "\n",
    "![image.png](attachment:ba75be3e-f376-4359-b0c4-09bfa8546126.png)"
   ]
  },
  {
   "cell_type": "markdown",
   "id": "dec34b7f-5026-4a9b-a963-fd7e5a8645ce",
   "metadata": {},
   "source": [
    "**ANSWER HERE:**"
   ]
  },
  {
   "cell_type": "code",
   "execution_count": 89,
   "id": "20b4f579-dfd1-43b8-a524-be9c5e92bef7",
   "metadata": {},
   "outputs": [
    {
     "ename": "SyntaxError",
     "evalue": "invalid syntax (4199114106.py, line 1)",
     "output_type": "error",
     "traceback": [
      "\u001b[0;36m  Cell \u001b[0;32mIn[89], line 1\u001b[0;36m\u001b[0m\n\u001b[0;31m    zmass_small =\u001b[0m\n\u001b[0m                 ^\u001b[0m\n\u001b[0;31mSyntaxError\u001b[0m\u001b[0;31m:\u001b[0m invalid syntax\n"
     ]
    }
   ],
   "source": [
    "zmass_small =\n",
    "zmass_big = "
   ]
  },
  {
   "cell_type": "code",
   "execution_count": null,
   "id": "26d95623-19db-47bd-88d5-dff265e0d8eb",
   "metadata": {
    "editable": true,
    "slideshow": {
     "slide_type": ""
    },
    "tags": []
   },
   "outputs": [],
   "source": [
    "PV_hist_ex = (hist.Hist.new.Regular(60, 0, 120, name=\"x\").Regular(60, 0, 120, name=\"y\").Double().fill(x=zmass_small, y=zmass_big))\n",
    "PV_hist_ex\n",
    "'''\n",
    "pv_hist = (\n",
    "    hist.Hist.new\n",
    "    .Regular(1000, 0, 0.5, name=\"x\")\n",
    "    .Regular(1000, -0.5, 0.5, name=\"y\")\n",
    "    .Regular(100, -20.0, 20.0, name=\"z\")\n",
    "    .Double()\n",
    "    .fill(x=pv_x, y=pv_y, z=pv_z)\n",
    ")\n",
    "pv_histb\n",
    "'''\n"
   ]
  },
  {
   "cell_type": "code",
   "execution_count": null,
   "id": "8beaff87-e13b-4ddb-932b-e75dde0045ee",
   "metadata": {
    "editable": true,
    "slideshow": {
     "slide_type": ""
    },
    "tags": []
   },
   "outputs": [],
   "source": [
    "PV_hist_ex[:, :].plot2d_full();"
   ]
  },
  {
   "cell_type": "markdown",
   "id": "0d75fd41-2176-4bbd-a9de-4fb90d5570f4",
   "metadata": {
    "editable": true,
    "slideshow": {
     "slide_type": ""
    },
    "tags": []
   },
   "source": [
    "<details>\n",
    "    <summary><b>Hint 1...</b></summary>\n",
    "\n",
    "<br>\n",
    "\n",
    "You could use [np.where](https://numpy.org/doc/stable/reference/generated/numpy.where.html).\n",
    "\n",
    "</details>\n",
    "\n",
    "<br>\n",
    "\n",
    "<details>\n",
    "    <summary><b>Hint 2...</b></summary>\n",
    "\n",
    "<br>\n",
    "\n",
    "You could also define `zmass_small` and `zmass_big` as empty arrays and fill them like:\n",
    "\n",
    "```python\n",
    "zmass_small[zmass_ee < zmass_mumu] = zmass_ee\n",
    "zmass_small[zmass_mumu < zmass_ee] = zmass_mumu\n",
    "```\n",
    "\n",
    "</details>"
   ]
  },
  {
   "cell_type": "markdown",
   "id": "0808d5bb-3589-4fc2-a90a-10a9e4141239",
   "metadata": {
    "editable": true,
    "slideshow": {
     "slide_type": ""
    },
    "tags": []
   },
   "source": [
    "<br><br><br><br><br>"
   ]
  },
  {
   "cell_type": "markdown",
   "id": "0594d2a0-b943-4afc-aed6-8b4d9b77185e",
   "metadata": {},
   "source": [
    "## Exercise part 5"
   ]
  },
  {
   "attachments": {
    "804379f9-6985-4df2-9764-ed6139b99610.png": {
     "image/png": "[encoded data removed]"
    }
   },
   "cell_type": "markdown",
   "id": "7ee3eff1-8016-4655-ac6c-4426f392381a",
   "metadata": {},
   "source": [
    "Make a final Higgs plot with and without the Z mass quality cut. It should look like this (100 bins):\n",
    "\n",
    "![image.png](attachment:804379f9-6985-4df2-9764-ed6139b99610.png)"
   ]
  },
  {
   "cell_type": "markdown",
   "id": "98178364-5261-4c94-b632-bd3839a5058e",
   "metadata": {},
   "source": [
    "**ANSWER HERE:**"
   ]
  },
  {
   "cell_type": "code",
   "execution_count": null,
   "id": "81be679e-5be0-45ce-9eca-30eee6ae8c64",
   "metadata": {},
   "outputs": [],
   "source": []
  },
  {
   "cell_type": "markdown",
   "id": "f7d8f4e2-688f-4a8d-a3fa-f3b175297b69",
   "metadata": {},
   "source": [
    "<br><br><br><br><br>"
   ]
  },
  {
   "attachments": {
    "5a581d12-0c4f-4f1b-bd33-515a4018f741.png": {
     "image/png": "[encoded data removed]"
    }
   },
   "cell_type": "markdown",
   "id": "0a1b7235-74f8-4c73-984c-d469d8f5aa37",
   "metadata": {},
   "source": [
    "For fun, you can also make the anti-cut plot. It should look like this (100 bins):\n",
    "\n",
    "![image.png](attachment:5a581d12-0c4f-4f1b-bd33-515a4018f741.png)"
   ]
  },
  {
   "cell_type": "markdown",
   "id": "e2978acd-fe68-43ea-ad09-c580aa878a62",
   "metadata": {},
   "source": [
    "**ANSWER HERE:**"
   ]
  },
  {
   "cell_type": "code",
   "execution_count": null,
   "id": "c541ea0a-4c97-416d-9e62-57ec98cd3032",
   "metadata": {},
   "outputs": [],
   "source": []
  }
 ],
 "metadata": {
  "kernelspec": {
   "display_name": "Python 3 (ipykernel)",
   "language": "python",
   "name": "python3"
  },
  "language_info": {
   "codemirror_mode": {
    "name": "ipython",
    "version": 3
   },
   "file_extension": ".py",
   "mimetype": "text/x-python",
   "name": "python",
   "nbconvert_exporter": "python",
   "pygments_lexer": "ipython3",
   "version": "3.10.18"
  }
 },
 "nbformat": 4,
 "nbformat_minor": 5
}
